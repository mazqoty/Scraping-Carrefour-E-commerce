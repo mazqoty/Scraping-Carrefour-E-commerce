{
 "cells": [
  {
   "cell_type": "markdown",
   "metadata": {},
   "source": [
    "### Things to change"
   ]
  },
  {
   "cell_type": "code",
   "execution_count": null,
   "metadata": {},
   "outputs": [],
   "source": [
    "# Things to change\n",
    "# 1) path\n",
    "# 2) path_2\n",
    "# 3) path_3\n",
    "# 4) executable_path = \"C:/Drivers/chromedriver.exe\""
   ]
  },
  {
   "cell_type": "markdown",
   "metadata": {},
   "source": [
    "### Imports"
   ]
  },
  {
   "cell_type": "code",
   "execution_count": null,
   "metadata": {},
   "outputs": [],
   "source": [
    "from selenium import webdriver\n",
    "from selenium.webdriver.common.keys import Keys\n",
    "from selenium.webdriver.support.ui import WebDriverWait\n",
    "from selenium.webdriver.support.ui import Select\n",
    "from selenium.webdriver.support import expected_conditions as EC\n",
    "from selenium.webdriver.common.by import By\n",
    "from selenium.webdriver.chrome.options import Options\n",
    "import csv\n",
    "from csv import reader\n",
    "import time\n",
    "import winsound\n",
    "\n",
    "duration = 1000  # milliseconds\n",
    "freq = 440  # Hz\n",
    "none_string = 'NaN'\n",
    "\n",
    "path = 'C:/Users/Mazhar/Projects_Jupyter/6.Scraping-Carrefour/CSV_Pics_Files/Grocery/1.Carrefour_Product_Urls_Master.csv'\n",
    "path_1 = \"C:/Users/Mazhar/Projects_Jupyter/6.Scraping-Carrefour/CSV_Pics_Files/Grocery/4.Carrefour_Products_Price_Master.csv\"\n",
    "path_2 = \"C:/Users/Mazhar/Projects_Jupyter/6.Scraping-Carrefour/CSV_Pics_Files/Grocery/Carrefour_Products_NotFound.csv\"\n",
    "executable_path = \"C:/Drivers/chromedriver.exe\""
   ]
  },
  {
   "cell_type": "markdown",
   "metadata": {},
   "source": [
    "### Working with Product URLs"
   ]
  },
  {
   "cell_type": "code",
   "execution_count": null,
   "metadata": {},
   "outputs": [],
   "source": [
    "# Specify the web page\n",
    "#raw_url = \"https://www.carrefour.pk/mafpak/en/root-maf-category//groceries/cooking-ingredients/cooking-oils-ghee/frying-oil/dalda-cooking-oil-pouch-1ltrx5/p/36445\"\n"
   ]
  },
  {
   "cell_type": "code",
   "execution_count": null,
   "metadata": {},
   "outputs": [],
   "source": [
    "#----- Creating CSV file for saving scraped data\n",
    "\n",
    "csv_file = open(path_1, 'w')\n",
    "csv_writer = csv.writer(csv_file)\n",
    "#defining headers\n",
    "csv_writer.writerow(['Product Titles', 'Price (PKR)', 'Product_Link'])\n",
    "\n",
    "#----- Creating CSV file for saving Products Data Not Found\n",
    "\n",
    "csv_notfound = open(path_2, 'w')\n",
    "csv_writerNotFound = csv.writer(csv_notfound)\n",
    "#defining headers\n",
    "csv_writerNotFound.writerow(['Product Data Not Found'])\n",
    "\n",
    "\n",
    "#----- open Products Link File in read mode\n",
    "\n",
    "with open(path, 'r') as f:\n",
    "    \n",
    "    read_links = reader(f)\n",
    "    counter = 1\n",
    "    \n",
    "    for link in read_links:\n",
    "        \n",
    "        #Download webdriver from https://chromedriver.chromium.org/downloads or \n",
    "        #https://github.com/mozilla/geckodriver/releases and provide your own path \n",
    "\n",
    "        driver = webdriver.Chrome(executable_path) \n",
    "        link = str(link[0])\n",
    "        driver.get(link)\n",
    "        #print(driver.title)\n",
    "        driver.minimize_window()\n",
    "        # Can adjust according to the need\n",
    "        time.sleep(2)\n",
    "        \n",
    "           \n",
    "        try:\n",
    "            title = driver.find_element_by_xpath('/html/body/div/main/div[1]/div[2]/div[2]/section/h1').text\n",
    "            #print(\"Title\\n\", title)            \n",
    "\n",
    "        except Exception as e:\n",
    "            title = none_string\n",
    "\n",
    "\n",
    "        try:    \n",
    "            price = driver.find_element_by_xpath('/html/body/div/main/div[1]/div[2]/div[2]/section/div/h2')\\\n",
    "                                                                                                .text.replace(\" PKR\",\"\")\n",
    "            #print(\"Price\\n\", price)              \n",
    "\n",
    "        except Exception as e:\n",
    "            price = none_string\n",
    "\n",
    "\n",
    "        \n",
    "        # Writing to CSV file\n",
    "        try:\n",
    "            csv_writer.writerow([title, price, link])\n",
    "        \n",
    "        except Exception as e:\n",
    "            csv_writer.writerow([none_string, none_string, link])\n",
    "            csv_writerNotFound.writerow([link])\n",
    "            \n",
    "        \n",
    "        #time.sleep(5)\n",
    "        driver.close()\n",
    "        print(\"\\r Last Completed Product Link:\", counter, \"|\", \"Product Link\", link, end = '')\n",
    "        counter += 1\n",
    "        \n",
    "\n",
    "        \n",
    "csv_file.close()\n",
    "csv_notfound.close()\n",
    "#winsound.Beep(freq, duration)\n",
    "print(\"\\n\\nTask Completed\")"
   ]
  },
  {
   "cell_type": "code",
   "execution_count": null,
   "metadata": {},
   "outputs": [],
   "source": [
    "# csv_file.close()\n",
    "# csv_notfound.close()"
   ]
  },
  {
   "cell_type": "code",
   "execution_count": null,
   "metadata": {},
   "outputs": [],
   "source": []
  }
 ],
 "metadata": {
  "kernelspec": {
   "display_name": "Python 3",
   "language": "python",
   "name": "python3"
  },
  "language_info": {
   "codemirror_mode": {
    "name": "ipython",
    "version": 3
   },
   "file_extension": ".py",
   "mimetype": "text/x-python",
   "name": "python",
   "nbconvert_exporter": "python",
   "pygments_lexer": "ipython3",
   "version": "3.7.6"
  }
 },
 "nbformat": 4,
 "nbformat_minor": 4
}
