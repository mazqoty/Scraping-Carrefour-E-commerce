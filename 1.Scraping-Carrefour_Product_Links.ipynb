{
 "cells": [
  {
   "cell_type": "markdown",
   "metadata": {},
   "source": [
    "### Things to change"
   ]
  },
  {
   "cell_type": "code",
   "execution_count": null,
   "metadata": {},
   "outputs": [],
   "source": [
    "# 1) raw_url\n",
    "# 2) executable_path = \"C:/Drivers/chromedriver.exe\"\n",
    "# 3) path"
   ]
  },
  {
   "cell_type": "markdown",
   "metadata": {},
   "source": [
    "### Imports"
   ]
  },
  {
   "cell_type": "code",
   "execution_count": null,
   "metadata": {},
   "outputs": [],
   "source": [
    "from selenium import webdriver\n",
    "from selenium.webdriver.common.keys import Keys\n",
    "from selenium.webdriver.support.ui import WebDriverWait\n",
    "from selenium.webdriver.support.ui import Select\n",
    "from selenium.webdriver.support import expected_conditions as EC\n",
    "from selenium.webdriver.common.by import By\n",
    "from tqdm import tqdm\n",
    "import pandas as pd\n",
    "import csv\n",
    "import time\n"
   ]
  },
  {
   "cell_type": "markdown",
   "metadata": {},
   "source": [
    "### URL"
   ]
  },
  {
   "cell_type": "code",
   "execution_count": null,
   "metadata": {},
   "outputs": [],
   "source": [
    "# Specify the web page\n",
    "\n",
    "raw_url = \"https://www.carrefour.pk/mafpak/en/Baby-Products/c/FPAK1000000?currentPage=0&filter=&nextPageOffset=0&pageSize=60&sortBy=relevance\"\n",
    "\n",
    "#Download webdriver from https://chromedriver.chromium.org/downloads or\n",
    "#https://github.com/mozilla/geckodriver/releases and provide your own path\n",
    "\n",
    "executable_path = \"C:/Drivers/chromedriver.exe\""
   ]
  },
  {
   "cell_type": "markdown",
   "metadata": {},
   "source": [
    "### WebDriver"
   ]
  },
  {
   "cell_type": "code",
   "execution_count": null,
   "metadata": {},
   "outputs": [],
   "source": [
    "driver = webdriver.Chrome(executable_path)\n",
    "driver.get(raw_url)\n",
    "print(driver.title)\n",
    "driver.maximize_window()\n",
    "time.sleep(20)"
   ]
  },
  {
   "cell_type": "markdown",
   "metadata": {},
   "source": [
    "### Killing Popups or iFrames (if required)"
   ]
  },
  {
   "cell_type": "code",
   "execution_count": null,
   "metadata": {},
   "outputs": [],
   "source": [
    "# #Killing iframes\n",
    "# driver.switch_to.frame(\"google_ads_iframe_/31946216/Splash_660x500_0\") # first frame\n",
    "# driver.find_element_by_xpath('/html/body/div[2]/img').click()\n",
    "\n",
    "# #Switch back to main content\n",
    "# driver.switch_to.default_content()\n",
    "# driver.find_element_by_xpath('//*[@id=\"body-wrapper\"]/div[2]/div/div/div[2]/button[2]').click()\n",
    "\n",
    "# #Killing iframes again\n",
    "# driver.switch_to.frame(\"google_ads_iframe_/31946216/HStrip_NS_0\") # 2nd frame\n",
    "# driver.find_element_by_xpath('/html/body/div[2]/img').click()\n",
    "\n",
    "# #Switch back to main content\n",
    "# driver.switch_to.default_content()"
   ]
  },
  {
   "cell_type": "markdown",
   "metadata": {},
   "source": [
    "### Next Button"
   ]
  },
  {
   "cell_type": "code",
   "execution_count": null,
   "metadata": {},
   "outputs": [],
   "source": [
    "# while True:\n",
    "#     try:\n",
    "#         wait = WebDriverWait(driver, 400)\n",
    "#         element = wait.until(EC.element_to_be_clickable((By.XPATH, '/html/body/div/div[1]/div/div[3]/div[2]/div[4]')))\n",
    "#         element.click()\n",
    "#     except Exception as e:\n",
    "#         continue"
   ]
  },
  {
   "cell_type": "code",
   "execution_count": null,
   "metadata": {},
   "outputs": [],
   "source": [
    "while True:\n",
    "    try:\n",
    "        driver.find_element_by_xpath('/html/body/div/div[1]/div/div[3]/div[2]/div[4]').click()\n",
    "        time.sleep(60)\n",
    "    except Exception as e:\n",
    "        break\n",
    "        "
   ]
  },
  {
   "cell_type": "code",
   "execution_count": null,
   "metadata": {},
   "outputs": [],
   "source": [
    "print(\"Clicks Completed\")"
   ]
  },
  {
   "cell_type": "code",
   "execution_count": null,
   "metadata": {},
   "outputs": [],
   "source": [
    "# wait 10-30 mins after this step, browser populates the data after a while or manually scroll down to let it populate"
   ]
  },
  {
   "cell_type": "markdown",
   "metadata": {},
   "source": [
    "### Extracting All the Product Links on the Webpage"
   ]
  },
  {
   "cell_type": "code",
   "execution_count": null,
   "metadata": {},
   "outputs": [],
   "source": [
    "page_links = driver.find_elements_by_class_name('ltr-uviwge')\n",
    "links = []\n",
    "for i in range(len(page_links)):\n",
    "    link = page_links[i].find_elements_by_tag_name(\"a\")[0]\n",
    "    link = link.get_property('href')\n",
    "    links.append(link)\n",
    "\n",
    "\n",
    "links"
   ]
  },
  {
   "cell_type": "code",
   "execution_count": null,
   "metadata": {},
   "outputs": [],
   "source": [
    "len(links)"
   ]
  },
  {
   "cell_type": "markdown",
   "metadata": {},
   "source": [
    "### Saving Product Links"
   ]
  },
  {
   "cell_type": "code",
   "execution_count": null,
   "metadata": {},
   "outputs": [],
   "source": [
    "path = 'C:/Users/Mazhar/Projects_Jupyter/6.Scraping-Carrefour/CSV_Pics_Files/Carrefour_Baby_Products_Links.csv'\n",
    "csv_file = open(path, 'w')\n",
    "csv_writer = csv.writer(csv_file)\n",
    "#defining headers\n",
    "#csv_writer.writerow('Product Links')\n",
    "\n",
    "for i in tqdm(range(len(links)), desc = 'Progress'):\n",
    "        product_link = links[i]\n",
    "        csv_writer.writerow([product_link])\n",
    "    \n",
    "\n",
    "csv_file.close() "
   ]
  },
  {
   "cell_type": "code",
   "execution_count": null,
   "metadata": {},
   "outputs": [],
   "source": []
  }
 ],
 "metadata": {
  "kernelspec": {
   "display_name": "Python 3",
   "language": "python",
   "name": "python3"
  },
  "language_info": {
   "codemirror_mode": {
    "name": "ipython",
    "version": 3
   },
   "file_extension": ".py",
   "mimetype": "text/x-python",
   "name": "python",
   "nbconvert_exporter": "python",
   "pygments_lexer": "ipython3",
   "version": "3.7.6"
  }
 },
 "nbformat": 4,
 "nbformat_minor": 4
}
