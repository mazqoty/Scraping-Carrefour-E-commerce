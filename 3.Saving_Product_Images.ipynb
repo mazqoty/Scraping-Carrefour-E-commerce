{
 "cells": [
  {
   "cell_type": "markdown",
   "metadata": {},
   "source": [
    "### Things to Change"
   ]
  },
  {
   "cell_type": "code",
   "execution_count": 1,
   "metadata": {},
   "outputs": [],
   "source": [
    "# path \n",
    "# image_counter = 5\n",
    "# name_increment = 1\n",
    "# for i in tqdm(range(0,len(links)-10664)\n",
    "# while image_counter <= 7 \n",
    "# imagefile = open('C:/Users/Mazhar/Projects_Jupyter/5.Scraping-Lulu_Hypermarket/Images/'+ links[i][0] \\\n",
    "#                 + '_' + str(name_increment) + \".jpeg\", \"wb\")"
   ]
  },
  {
   "cell_type": "markdown",
   "metadata": {},
   "source": [
    "### Imports"
   ]
  },
  {
   "cell_type": "code",
   "execution_count": 2,
   "metadata": {},
   "outputs": [],
   "source": [
    "from bs4 import BeautifulSoup # HTML data structur\n",
    "import requests\n",
    "import urllib.request\n",
    "from urllib.request import urlopen # as uReq  # Web client\n",
    "from tqdm import tqdm\n",
    "import pandas as pd\n",
    "import csv\n",
    "import time"
   ]
  },
  {
   "cell_type": "markdown",
   "metadata": {},
   "source": [
    "### CSV / Excel Files"
   ]
  },
  {
   "cell_type": "code",
   "execution_count": 3,
   "metadata": {},
   "outputs": [],
   "source": [
    "#----------------------Calling Products file which has Product Images------------------------------------------------#\n",
    "\n",
    "path = \"C:/Users/Mazhar/Projects_Jupyter/6.Scraping-Carrefour/CSV_Pics_Files/Grocery/Carrefour_Products.xlsx\"\n",
    "\n",
    "df = pd.read_excel(path, index_col = None) \n",
    "\n",
    "links = df.values.tolist()\n"
   ]
  },
  {
   "cell_type": "code",
   "execution_count": 4,
   "metadata": {},
   "outputs": [],
   "source": [
    "#df.head(2)"
   ]
  },
  {
   "cell_type": "code",
   "execution_count": 5,
   "metadata": {},
   "outputs": [
    {
     "data": {
      "text/plain": [
       "'https://qf7s26sxazr7uwqlogrl311.blob.core.windows.net/sys-master-root/ha1/h30/9840651337758/36445_main.jpg_480Wx480H'"
      ]
     },
     "execution_count": 5,
     "metadata": {},
     "output_type": "execute_result"
    }
   ],
   "source": [
    "#image link\n",
    "links[0][9]"
   ]
  },
  {
   "cell_type": "code",
   "execution_count": 6,
   "metadata": {},
   "outputs": [
    {
     "data": {
      "text/plain": [
       "'https://qf7s26sxazr7uwqlogrl311.blob.core.windows.net/sys-master-root/ha2/hea/9840645701662/36445_1.jpg_480Wx480H'"
      ]
     },
     "execution_count": 6,
     "metadata": {},
     "output_type": "execute_result"
    }
   ],
   "source": [
    "#image link\n",
    "links[0][10]"
   ]
  },
  {
   "cell_type": "code",
   "execution_count": 7,
   "metadata": {},
   "outputs": [
    {
     "data": {
      "text/plain": [
       "'https://qf7s26sxazr7uwqlogrl311.blob.core.windows.net/sys-master-root/h22/h2e/9840647077918/36445_2.jpg_480Wx480H'"
      ]
     },
     "execution_count": 7,
     "metadata": {},
     "output_type": "execute_result"
    }
   ],
   "source": [
    "#image link\n",
    "links[0][11]"
   ]
  },
  {
   "cell_type": "code",
   "execution_count": 8,
   "metadata": {},
   "outputs": [
    {
     "data": {
      "text/plain": [
       "'Dalda Fortfied Cooking Oil 5 X 1litre Poly Bags'"
      ]
     },
     "execution_count": 8,
     "metadata": {},
     "output_type": "execute_result"
    }
   ],
   "source": [
    "#name of Image\n",
    "links[0][0] "
   ]
  },
  {
   "cell_type": "code",
   "execution_count": 9,
   "metadata": {},
   "outputs": [],
   "source": [
    "#links[:2]"
   ]
  },
  {
   "cell_type": "code",
   "execution_count": 10,
   "metadata": {},
   "outputs": [
    {
     "data": {
      "text/plain": [
       "4999"
      ]
     },
     "execution_count": 10,
     "metadata": {},
     "output_type": "execute_result"
    }
   ],
   "source": [
    "len(links)"
   ]
  },
  {
   "cell_type": "markdown",
   "metadata": {},
   "source": [
    "### Saving/Downloading Product Images"
   ]
  },
  {
   "cell_type": "code",
   "execution_count": 11,
   "metadata": {},
   "outputs": [
    {
     "name": "stderr",
     "output_type": "stream",
     "text": [
      "Progress: 100%|██████████| 5000/5000 [2:23:41<00:00,  1.72s/it]  \n"
     ]
    }
   ],
   "source": [
    "hdr = {'User-Agent': 'Mozilla/5.0 (X11; Linux x86_64) AppleWebKit/537.11 (KHTML, like Gecko) \\\n",
    "       Chrome/23.0.1271.64 Safari/537.11',\n",
    "   'Accept': 'text/html,application/xhtml+xml,application/xml;q=0.9,*/*;q=0.8',\n",
    "   'Accept-Charset': 'ISO-8859-1,utf-8;q=0.7,*;q=0.3',\n",
    "   'Accept-Encoding': 'none',\n",
    "   'Accept-Language': 'en-US,en;q=0.8',\n",
    "   'Connection': 'keep-alive'}\n",
    "\n",
    "\n",
    "for i in tqdm(range(0,len(links) + 1), desc = 'Progress'): # Only scrapping images of few products\n",
    "    \n",
    "    image_counter = 9\n",
    "    name_increment = 1\n",
    "    \n",
    "    while image_counter <= 11:\n",
    "        try:\n",
    "            image_url = links[i][image_counter]\n",
    "            #Open the URL as Browser, not as python urllib\n",
    "            page = urllib.request.Request(image_url,headers = hdr)\n",
    "            infile = urllib.request.urlopen(page).read()\n",
    "            #Read the content as string decoded with ISO-8859-1\n",
    "            #data = infile.decode('ISO-8859-1')\n",
    "            imagefile = open(\"C:/Users/Mazhar/Projects_Jupyter/6.Scraping-Carrefour/csv_excel_files/Pics/\" \\\n",
    "                                                             + links[i][0] + \"_\" + str(name_increment) + \".jpeg\", \"wb\")\n",
    "            imagefile.write(infile)\n",
    "            imagefile.close()\n",
    "            image_counter += 1\n",
    "            name_increment += 1\n",
    "        \n",
    "        \n",
    "        except Exception as e:\n",
    "            break  "
   ]
  },
  {
   "cell_type": "code",
   "execution_count": null,
   "metadata": {},
   "outputs": [],
   "source": []
  }
 ],
 "metadata": {
  "kernelspec": {
   "display_name": "Python 3",
   "language": "python",
   "name": "python3"
  },
  "language_info": {
   "codemirror_mode": {
    "name": "ipython",
    "version": 3
   },
   "file_extension": ".py",
   "mimetype": "text/x-python",
   "name": "python",
   "nbconvert_exporter": "python",
   "pygments_lexer": "ipython3",
   "version": "3.7.6"
  }
 },
 "nbformat": 4,
 "nbformat_minor": 4
}
